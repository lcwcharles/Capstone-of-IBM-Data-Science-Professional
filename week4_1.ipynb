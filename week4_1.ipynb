{
 "cells": [
  {
   "cell_type": "markdown",
   "id": "deadly-reduction",
   "metadata": {},
   "source": [
    "## 1. Introduction <a name=\"Introduction\"></a>"
   ]
  },
  {
   "cell_type": "markdown",
   "id": "variable-accreditation",
   "metadata": {},
   "source": [
    "### 1.1 Description & Disscusion of the Background<a name=\"Description\"></a>"
   ]
  },
  {
   "cell_type": "markdown",
   "id": "interested-characteristic",
   "metadata": {},
   "source": [
    "  Singapore is a developed country, known as one of the \"four little dragons of Asia\". At the same time, with its geographical advantages, Singapore has become one of the important financial, service and shipping centers in Asia, and the fourth largest international financial center after London, New York and Hong Kong. Chinese make up about three-quarters of its population. With the rapid development of economy and the accelerated pace of life, more and more people are unwilling to spend their time cooking at home. Going out to a restaurant has become a choice, and Chinese restaurants attract these people's stomach with their rich and colorful cuisine and attractive taste. Opening a Chinese restaurant in Singapore is a good investment option.\n",
    "\n",
    "  In this project, we try to find the best location to open a Chinese restaurant. Specifically, we will try to find areas with high population density and few Chinese restaurants. We will use data science to analyze and process the data we get, generate several blocks that deserve our attention most, and analyze and compare to get our best location."
   ]
  }
 ],
 "metadata": {
  "kernelspec": {
   "display_name": "Python 3",
   "language": "python",
   "name": "python3"
  },
  "language_info": {
   "codemirror_mode": {
    "name": "ipython",
    "version": 3
   },
   "file_extension": ".py",
   "mimetype": "text/x-python",
   "name": "python",
   "nbconvert_exporter": "python",
   "pygments_lexer": "ipython3",
   "version": "3.7.8"
  }
 },
 "nbformat": 4,
 "nbformat_minor": 5
}
