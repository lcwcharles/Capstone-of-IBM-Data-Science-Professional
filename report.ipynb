{
 "cells": [
  {
   "cell_type": "markdown",
   "id": "seven-nicaragua",
   "metadata": {},
   "source": [
    "# Capstone Project - Open a Chinese Restaurant in Singapore with A Right Place"
   ]
  },
  {
   "cell_type": "markdown",
   "id": "concrete-league",
   "metadata": {},
   "source": [
    "## Table of contents\n",
    "* [1. Introduction](#Introduction)\n",
    " * [1.1 Description & Disscusion of the Background](#Description)\n",
    " * [1.2 Data Description](#Data)\n",
    "* [2. Methodology](#Methodology)\n",
    "* [3. Results](#Results)\n",
    "* [4. Discussion](#Discussion) \n",
    "* [5. Conclusion](#Conclusion)\n",
    "* [6. References](#References)"
   ]
  },
  {
   "cell_type": "markdown",
   "id": "guided-keeping",
   "metadata": {},
   "source": [
    "## 1. Introduction <a name=\"Introduction\"></a>"
   ]
  },
  {
   "cell_type": "markdown",
   "id": "union-isolation",
   "metadata": {},
   "source": [
    "### 1.1 Description & Discussion of the Background<a name=\"Description\"></a>"
   ]
  },
  {
   "cell_type": "markdown",
   "id": "elegant-issue",
   "metadata": {},
   "source": [
    "  Singapore is a developed country, known as one of the \"four little dragons of Asia\". At the same time, with its geographical advantages, Singapore has become one of the important financial, service and shipping centers in Asia, and the fourth largest international financial center after London, New York and Hong Kong. Chinese make up about three-quarters of its population. With the rapid development of economy and the accelerated pace of life, more and more people are unwilling to spend their time cooking at home. Going out to a restaurant has become a choice, and Chinese restaurants attract these people's stomach with their rich and colorful cuisine and attractive taste. Opening a Chinese restaurant in Singapore is a good investment option.\n",
    "\n",
    "  In this project, we try to find the best location to open a Chinese restaurant. Specifically, we will try to find areas with high population density and few Chinese restaurants. We will use data science to analyze and process the data we get, generate several subzones that deserve our attention most, and analyze and compare to get our best location."
   ]
  },
  {
   "cell_type": "markdown",
   "id": "attached-density",
   "metadata": {},
   "source": [
    "### 1.2 Data Description <a name=\"Data\"></a>"
   ]
  },
  {
   "cell_type": "markdown",
   "id": "bottom-therapy",
   "metadata": {},
   "source": [
    "  According to the description of our problem, we need to know the population density of the subzones in Singapore and the distribution of Chinese restaurants.\n",
    "\n",
    "  We can find out the population density of each subzone from <a href=\"https://www.citypopulation.de/en/singapore/admin/\">here</a>.\n",
    "\n",
    "  Use Foursquare API to get the number and location of Chinese restaurants around each subzone."
   ]
  },
  {
   "cell_type": "markdown",
   "id": "appointed-setup",
   "metadata": {},
   "source": [
    "## 2. Methodology<a name=\"Methodology\"></a>"
   ]
  },
  {
   "cell_type": "markdown",
   "id": "productive-liberal",
   "metadata": {},
   "source": [
    "First, we get the name of each subzone and its population density.\n",
    "\n",
    "Then use <code>geocode</code> to get the longitude and latitude of each subzone.\n",
    "\n",
    "<img src='image\\subzone_location.png'>\n",
    "According to the longitude and latitude of each subzone, we use <code>Foursquare API</code> to get the information of Chinese restaurants that around each subzone. Use <code>Folium</code> to draw subzones and restaurants on the map.\n",
    "<img src='image\\venues_map.png'>\n",
    "There are many areas that are not within Singapore's borders. We will delete these areas and rebuild map.\n",
    "<img src='image\\venues_map_new.png'>\n",
    "Refine the data, because it's unwise to open a Chinese restaurant if the population nearby is too small. Here we screen out subzones with population density greater than 10000/km2.\n",
    "\n",
    "Through k-means method, we cluster these data and create a scatter plot to show the relationship between population density and the number of Chinese restaurants.\n",
    "\n",
    "Because the data sets are too few, the population density and the number of restaurants are too scattered, we divide these data equally in order to generate samples using machine learning. We choose the subzone with about 0 restaurants as our investment target area, and predict the number of restaurants through supervised learning.\n",
    "\n",
    "Create a scatter diagram to show the relationship between the population density and the number of Chinese restaurants.\n",
    "\n",
    "<img src='image\\scatter.png'>\n",
    "\n",
    "From the scatter above, we can see that the number of restaurants has no obvious relationship with population density.\n",
    "\n",
    "<img src='image\\bar_population_density.png'>\n",
    " \n",
    "<img src='image\\bar_restaurant_number.png'>\n",
    "From the bars above, We found that there are a few subzones with a large number of restaurants, and a few subzones are just famous tourist destinations. We will exclude these subzones when modeling.\n",
    "\n",
    "Use machine learning to predict subzones with very few restaurants.\n"
   ]
  },
  {
   "cell_type": "markdown",
   "id": "blocked-investing",
   "metadata": {},
   "source": [
    "## 3. Results<a name=\"Results\"></a>"
   ]
  },
  {
   "cell_type": "markdown",
   "id": "foreign-member",
   "metadata": {},
   "source": [
    "From the data we analyzed, the accuracy is about 0.4, which is not an ideal value. Compared with several machine learning methods, the data obtained by decision tree method shows that the number of restaurants in several areas is more.\n",
    "\n",
    "<img src='image\\predNumber.png'>\n",
    "\n",
    "The results predicted by KNN, SVN, LR\n",
    "\n",
    "<img src='image\\others_predNumber.png'>\n",
    "Four subzone most worthy of investment (marked in cyan)\n",
    "\n",
    "<img src='image\\pred_venues_map_new.png'>"
   ]
  },
  {
   "cell_type": "markdown",
   "id": "planned-discrimination",
   "metadata": {},
   "source": [
    "## 4. Discussion<a name=\"Discussion\"></a>"
   ]
  },
  {
   "cell_type": "markdown",
   "id": "handled-vampire",
   "metadata": {},
   "source": [
    "Our model is very simple and single. There are many uncertain factors, such as:\n",
    "\n",
    "1.The distribution of subzones is uneven, and the search radius is limited, which make the number of restaurants controversial.\n",
    "\n",
    "2.The number of people in each age group, the number of ethnic groups, and their eating habits. These need a source with enormous data to support us to explore.\n",
    "\n",
    "3.Consumers' evaluation of each restaurant.To get the informations, we need a higher authority of <code>Foursquare API</code>."
   ]
  },
  {
   "cell_type": "markdown",
   "id": "occupational-culture",
   "metadata": {},
   "source": [
    "## 5. Conclusion<a name=\"Methodology\"></a>"
   ]
  },
  {
   "cell_type": "markdown",
   "id": "third-timer",
   "metadata": {},
   "source": [
    "As a result, Chinese restaurants abound in Singapore. It is a feasible investment plan to open a Chinese restaurant in Singapore. Through these data, investors can decide better their investment strategy and get profits as soon as possible."
   ]
  },
  {
   "cell_type": "markdown",
   "id": "frank-tender",
   "metadata": {},
   "source": [
    "##  6. References<a name=\"References\"></a>"
   ]
  },
  {
   "cell_type": "markdown",
   "id": "above-beads",
   "metadata": {},
   "source": [
    "* <a href=\"https://www.citypopulation.de/en/singapore/admin/\">Population Density Data of Singapore</a>\n",
    "* <a href=\"https://developer.foursquare.com/\">Foursquare API</a>"
   ]
  },
  {
   "cell_type": "code",
   "execution_count": null,
   "id": "interested-proposal",
   "metadata": {},
   "outputs": [],
   "source": []
  }
 ],
 "metadata": {
  "kernelspec": {
   "display_name": "Python 3",
   "language": "python",
   "name": "python3"
  },
  "language_info": {
   "codemirror_mode": {
    "name": "ipython",
    "version": 3
   },
   "file_extension": ".py",
   "mimetype": "text/x-python",
   "name": "python",
   "nbconvert_exporter": "python",
   "pygments_lexer": "ipython3",
   "version": "3.7.8"
  }
 },
 "nbformat": 4,
 "nbformat_minor": 5
}
