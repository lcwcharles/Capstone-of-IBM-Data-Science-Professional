{
 "cells": [
  {
   "cell_type": "markdown",
   "id": "timely-welcome",
   "metadata": {},
   "source": [
    "## 1. Introduction <a name=\"Introduction\"></a>"
   ]
  },
  {
   "cell_type": "markdown",
   "id": "alive-appointment",
   "metadata": {},
   "source": [
    "### 1.2 Data Description <a name=\"Data\"></a>"
   ]
  },
  {
   "cell_type": "markdown",
   "id": "educated-crime",
   "metadata": {},
   "source": [
    "  According to the description of our problem, we need to know the population density of the subzones in Singapore and the distribution of Chinese restaurants.\n",
    "\n",
    "  We can find out the population density of each subzone from <a href=\"https://www.citypopulation.de/en/singapore/admin/\">here</a>.\n",
    "\n",
    "  Use Foursquare API to get the number and location of Chinese restaurants around each subzone."
   ]
  }
 ],
 "metadata": {
  "kernelspec": {
   "display_name": "Python 3",
   "language": "python",
   "name": "python3"
  },
  "language_info": {
   "codemirror_mode": {
    "name": "ipython",
    "version": 3
   },
   "file_extension": ".py",
   "mimetype": "text/x-python",
   "name": "python",
   "nbconvert_exporter": "python",
   "pygments_lexer": "ipython3",
   "version": "3.7.8"
  }
 },
 "nbformat": 4,
 "nbformat_minor": 5
}
