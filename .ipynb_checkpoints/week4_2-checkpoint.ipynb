{
 "cells": [
  {
   "cell_type": "markdown",
   "id": "rough-basket",
   "metadata": {},
   "source": [
    "## 1. Introduction <a name=\"Introduction\"></a>"
   ]
  },
  {
   "cell_type": "markdown",
   "id": "adjusted-livestock",
   "metadata": {},
   "source": [
    "### 1.2 Data Description <a name=\"Data\"></a>"
   ]
  },
  {
   "cell_type": "markdown",
   "id": "vocational-earthquake",
   "metadata": {},
   "source": [
    "  According to the description of our problem, we need to know the population density of the subzones in Singapore and the distribution of Chinese restaurants.\n",
    "\n",
    "  We can find out the population density of each subzone from <a href=\"https://www.citypopulation.de/en/singapore/admin/\">here.\n",
    "    \n",
    "  </a>https://www.citypopulation.de/en/singapore/admin/\n",
    "\n",
    "  Use Foursquare API to get the number and location of Chinese restaurants around each subzone.\n",
    "  \n",
    "  <img src='image\\data_example.png'>\n",
    "  \n",
    "  We will use K-means and supervised learning to solve the problem."
   ]
  },
  {
   "cell_type": "markdown",
   "id": "macro-romance",
   "metadata": {},
   "source": [
    "## 2. Methodology<a name=\"Methodology\"></a>"
   ]
  },
  {
   "cell_type": "markdown",
   "id": "satisfied-bullet",
   "metadata": {},
   "source": [
    "First, we get the name of each subzone and its population density.\n",
    "\n",
    "Then use <code>geocode</code> to get the longitude and latitude of each subzone.\n",
    "\n",
    "<img src='image\\subzone_location.png'>\n",
    "According to the longitude and latitude of each subzone, we use <code>Foursquare API</code> to get the information of Chinese restaurants that around each subzone. Use <code>Folium</code> to draw subzones and restaurants on the map.\n",
    "<img src='image\\venues_map.png'>\n",
    "There are many areas that are not within Singapore's borders. We will delete these areas and rebuild map.\n",
    "<img src='image\\venues_map_new.png'>\n",
    "Refine the data, because it's unwise to open a Chinese restaurant if the population nearby is too small. Here we screen out subzones with population density greater than 10000/km2.\n",
    "\n",
    "Through k-means method, we cluster these data and create a scatter plot to show the relationship between population density and the number of Chinese restaurants.\n",
    "\n",
    "Because the data sets are too few, the population density and the number of restaurants are too scattered, we divide these data equally in order to generate samples using machine learning. We choose the subzone with about 0 restaurants as our investment target area, and predict the number of restaurants through supervised learning.\n",
    "\n",
    "Create a scatter diagram to show the relationship between the population density and the number of Chinese restaurants.\n",
    "\n",
    "<img src='image\\scatter.png'>\n",
    "\n",
    "From the scatter above, we can see that the number of restaurants has no obvious relationship with population density.\n",
    "\n",
    "<img src='image\\bar_population_density.png'>\n",
    " \n",
    "<img src='image\\bar_restaurant_number.png'>\n",
    "From the bars above, We found that there are a few subzones with a large number of restaurants, and a few subzones are just famous tourist destinations. We will exclude these subzones when modeling.\n",
    "\n",
    "Use machine learning to predict subzones with very few restaurants.\n"
   ]
  },
  {
   "cell_type": "code",
   "execution_count": null,
   "id": "geological-tower",
   "metadata": {},
   "outputs": [],
   "source": []
  }
 ],
 "metadata": {
  "kernelspec": {
   "display_name": "Python 3",
   "language": "python",
   "name": "python3"
  },
  "language_info": {
   "codemirror_mode": {
    "name": "ipython",
    "version": 3
   },
   "file_extension": ".py",
   "mimetype": "text/x-python",
   "name": "python",
   "nbconvert_exporter": "python",
   "pygments_lexer": "ipython3",
   "version": "3.7.8"
  }
 },
 "nbformat": 4,
 "nbformat_minor": 5
}
